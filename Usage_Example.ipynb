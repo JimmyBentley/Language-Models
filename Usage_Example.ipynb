{
 "cells": [
  {
   "cell_type": "code",
   "execution_count": 1,
   "id": "95a95a3f",
   "metadata": {},
   "outputs": [],
   "source": [
    "%load_ext autoreload\n",
    "%autoreload 2"
   ]
  },
  {
   "cell_type": "code",
   "execution_count": 2,
   "id": "941d488f",
   "metadata": {},
   "outputs": [],
   "source": [
    "import pandas as pd\n",
    "import numpy as np\n",
    "import os\n",
    "import re\n",
    "import requests\n",
    "import time"
   ]
  },
  {
   "cell_type": "code",
   "execution_count": 3,
   "id": "64661fd7",
   "metadata": {},
   "outputs": [],
   "source": [
    "from project import *"
   ]
  },
  {
   "cell_type": "markdown",
   "id": "3e3c5b98",
   "metadata": {},
   "source": [
    "Retrieves contents of Plain Text UTF-8 file."
   ]
  },
  {
   "cell_type": "code",
   "execution_count": 4,
   "id": "6d30f78c",
   "metadata": {},
   "outputs": [],
   "source": [
    "url = 'http://www.gutenberg.org/files/57988/57988-0.txt'\n",
    "book = get_book(url)"
   ]
  },
  {
   "cell_type": "code",
   "execution_count": 5,
   "id": "9f232f10",
   "metadata": {},
   "outputs": [
    {
     "data": {
      "text/plain": [
       "'\\n\\n\\n\\n\\nProduced by Chuck Greif and the Online Distributed\\nProofreading Team at http://www.pgdp.net (This file was\\nproduced from images available at The Internet Archive)\\n\\n\\n\\n\\n\\n\\n\\n\\n\\n\\n\\n                                   A\\n\\n                           SON OF THE SOIL.\\n\\n\\n\\n\\n                                   A\\n\\n                           SON OF THE SOIL.\\n\\n\\n                                  BY\\n\\n                            MRS. OLIPHANT.\\n\\n\\n                            _NEW EDITION._\\n\\n\\n                                London:\\n\\n                           MACMILLAN AND CO.\\n\\n                                 1872.\\n\\n       _The Right of Translation and Reproduction is reserved._\\n\\n\\n\\n\\n                                LONDON:\\n\\n                 R. CLAY, SONS, AND TAYLOR, PRINTERS,\\n\\n                           BREAD STREET HILL\\n\\n\\n\\n\\n                          A SON OF THE SOIL.\\n\\n\\n\\n\\n_CHAPTER I._\\n\\n\\nâ\\x80\\x9cI say, you boy, it always rains here, doesnâ\\x80\\x99t it?--or â\\x80\\x98whiles\\nsnawsâ\\x80\\x99--as the aborigines say. Youâ\\x80\\x99re a native'"
      ]
     },
     "execution_count": 5,
     "metadata": {},
     "output_type": "execute_result"
    }
   ],
   "source": [
    "book[:1000]"
   ]
  },
  {
   "cell_type": "markdown",
   "id": "6b276498",
   "metadata": {},
   "source": [
    "Tokenizes text into legible tokens, with '\\x02' meaning start and '\\x03' meaning end."
   ]
  },
  {
   "cell_type": "code",
   "execution_count": 6,
   "id": "6fdbbc60",
   "metadata": {},
   "outputs": [
    {
     "data": {
      "text/plain": [
       "(['\\x02',\n",
       "  'Produced',\n",
       "  'by',\n",
       "  'Chuck',\n",
       "  'Greif',\n",
       "  'and',\n",
       "  'the',\n",
       "  'Online',\n",
       "  'Distributed',\n",
       "  'Proofreading'],\n",
       " ['of', 'the', 'Soil', ',', 'by', 'Mrs', '.', 'Margaret', 'Oliphant', '\\x03'])"
      ]
     },
     "execution_count": 6,
     "metadata": {},
     "output_type": "execute_result"
    }
   ],
   "source": [
    "tokens = tokenize(book)\n",
    "tokens[:10], tokens[-10:]"
   ]
  },
  {
   "cell_type": "markdown",
   "id": "66f81ae0",
   "metadata": {},
   "source": [
    "Basic uniform model assumes the probability of all words are likely equal, no matter the frequency of said word."
   ]
  },
  {
   "cell_type": "code",
   "execution_count": 7,
   "id": "58da3525",
   "metadata": {},
   "outputs": [],
   "source": [
    "uniform = UniformLM(tokens)"
   ]
  },
  {
   "cell_type": "code",
   "execution_count": 8,
   "id": "4b58771e",
   "metadata": {},
   "outputs": [
    {
     "data": {
      "text/html": [
       "<div>\n",
       "<style scoped>\n",
       "    .dataframe tbody tr th:only-of-type {\n",
       "        vertical-align: middle;\n",
       "    }\n",
       "\n",
       "    .dataframe tbody tr th {\n",
       "        vertical-align: top;\n",
       "    }\n",
       "\n",
       "    .dataframe thead th {\n",
       "        text-align: right;\n",
       "    }\n",
       "</style>\n",
       "<table border=\"1\" class=\"dataframe\">\n",
       "  <thead>\n",
       "    <tr style=\"text-align: right;\">\n",
       "      <th></th>\n",
       "      <th>probability</th>\n",
       "    </tr>\n",
       "  </thead>\n",
       "  <tbody>\n",
       "    <tr>\n",
       "      <th>\u0002</th>\n",
       "      <td>0.000093</td>\n",
       "    </tr>\n",
       "    <tr>\n",
       "      <th>Produced</th>\n",
       "      <td>0.000093</td>\n",
       "    </tr>\n",
       "    <tr>\n",
       "      <th>by</th>\n",
       "      <td>0.000093</td>\n",
       "    </tr>\n",
       "    <tr>\n",
       "      <th>Chuck</th>\n",
       "      <td>0.000093</td>\n",
       "    </tr>\n",
       "    <tr>\n",
       "      <th>Greif</th>\n",
       "      <td>0.000093</td>\n",
       "    </tr>\n",
       "    <tr>\n",
       "      <th>...</th>\n",
       "      <td>...</td>\n",
       "    </tr>\n",
       "    <tr>\n",
       "      <th>Gutenberg</th>\n",
       "      <td>0.000093</td>\n",
       "    </tr>\n",
       "    <tr>\n",
       "      <th>'</th>\n",
       "      <td>0.000093</td>\n",
       "    </tr>\n",
       "    <tr>\n",
       "      <th>Soil</th>\n",
       "      <td>0.000093</td>\n",
       "    </tr>\n",
       "    <tr>\n",
       "      <th>Margaret</th>\n",
       "      <td>0.000093</td>\n",
       "    </tr>\n",
       "    <tr>\n",
       "      <th>Oliphant</th>\n",
       "      <td>0.000093</td>\n",
       "    </tr>\n",
       "  </tbody>\n",
       "</table>\n",
       "<p>10747 rows × 1 columns</p>\n",
       "</div>"
      ],
      "text/plain": [
       "           probability\n",
       "\u0002             0.000093\n",
       "Produced      0.000093\n",
       "by            0.000093\n",
       "Chuck         0.000093\n",
       "Greif         0.000093\n",
       "...                ...\n",
       "Gutenberg     0.000093\n",
       "'             0.000093\n",
       "Soil          0.000093\n",
       "Margaret      0.000093\n",
       "Oliphant      0.000093\n",
       "\n",
       "[10747 rows x 1 columns]"
      ]
     },
     "execution_count": 8,
     "metadata": {},
     "output_type": "execute_result"
    }
   ],
   "source": [
    "pd.DataFrame({'probability': uniform.mdl})"
   ]
  },
  {
   "cell_type": "code",
   "execution_count": 9,
   "id": "4124d838",
   "metadata": {},
   "outputs": [
    {
     "data": {
      "text/plain": [
       "'blandly rank amity hereditary unknown unyielding cursed assertion body thick each golden thank printshop sanctuaries tongue woo emerging couldna plough humiliating entered stables neighbour prospects their off disappeared continuous matron fence broke cherished counts Arturo accompaniment place opinions spiteful blind mignonne tattoo nearer quarrels timidity virtues roamed rearranged Again ladies approve thunderstorm jealous ! blotted regular snowy September chilled shaky image clock fain strictest bought reposing question pleading impostor greatest fabric civilized indiscretion smother It manifold Park Argus healthful case literary headed niche futility strenuous tenth doctrine medicine murderer represent shaky provision hierarchies meantime wi Ã HARRY decline undesired soaring'"
      ]
     },
     "execution_count": 9,
     "metadata": {},
     "output_type": "execute_result"
    }
   ],
   "source": [
    "uniform.sample(100)"
   ]
  },
  {
   "cell_type": "markdown",
   "id": "1871c258",
   "metadata": {},
   "source": [
    "Unigram Model makes probability of choosing a specific token based solely on token frequency."
   ]
  },
  {
   "cell_type": "code",
   "execution_count": 10,
   "id": "2119dd01",
   "metadata": {},
   "outputs": [],
   "source": [
    "unigram = UnigramLM(tokens)"
   ]
  },
  {
   "cell_type": "code",
   "execution_count": 11,
   "id": "1f7b038b",
   "metadata": {},
   "outputs": [
    {
     "data": {
      "text/html": [
       "<div>\n",
       "<style scoped>\n",
       "    .dataframe tbody tr th:only-of-type {\n",
       "        vertical-align: middle;\n",
       "    }\n",
       "\n",
       "    .dataframe tbody tr th {\n",
       "        vertical-align: top;\n",
       "    }\n",
       "\n",
       "    .dataframe thead th {\n",
       "        text-align: right;\n",
       "    }\n",
       "</style>\n",
       "<table border=\"1\" class=\"dataframe\">\n",
       "  <thead>\n",
       "    <tr style=\"text-align: right;\">\n",
       "      <th></th>\n",
       "      <th>probability</th>\n",
       "    </tr>\n",
       "  </thead>\n",
       "  <tbody>\n",
       "    <tr>\n",
       "      <th>\u0002</th>\n",
       "      <td>0.005200</td>\n",
       "    </tr>\n",
       "    <tr>\n",
       "      <th>Produced</th>\n",
       "      <td>0.000004</td>\n",
       "    </tr>\n",
       "    <tr>\n",
       "      <th>by</th>\n",
       "      <td>0.002992</td>\n",
       "    </tr>\n",
       "    <tr>\n",
       "      <th>Chuck</th>\n",
       "      <td>0.000004</td>\n",
       "    </tr>\n",
       "    <tr>\n",
       "      <th>Greif</th>\n",
       "      <td>0.000004</td>\n",
       "    </tr>\n",
       "    <tr>\n",
       "      <th>...</th>\n",
       "      <td>...</td>\n",
       "    </tr>\n",
       "    <tr>\n",
       "      <th>Gutenberg</th>\n",
       "      <td>0.000004</td>\n",
       "    </tr>\n",
       "    <tr>\n",
       "      <th>'</th>\n",
       "      <td>0.000004</td>\n",
       "    </tr>\n",
       "    <tr>\n",
       "      <th>Soil</th>\n",
       "      <td>0.000004</td>\n",
       "    </tr>\n",
       "    <tr>\n",
       "      <th>Margaret</th>\n",
       "      <td>0.000004</td>\n",
       "    </tr>\n",
       "    <tr>\n",
       "      <th>Oliphant</th>\n",
       "      <td>0.000004</td>\n",
       "    </tr>\n",
       "  </tbody>\n",
       "</table>\n",
       "<p>10747 rows × 1 columns</p>\n",
       "</div>"
      ],
      "text/plain": [
       "           probability\n",
       "\u0002             0.005200\n",
       "Produced      0.000004\n",
       "by            0.002992\n",
       "Chuck         0.000004\n",
       "Greif         0.000004\n",
       "...                ...\n",
       "Gutenberg     0.000004\n",
       "'             0.000004\n",
       "Soil          0.000004\n",
       "Margaret      0.000004\n",
       "Oliphant      0.000004\n",
       "\n",
       "[10747 rows x 1 columns]"
      ]
     },
     "execution_count": 11,
     "metadata": {},
     "output_type": "execute_result"
    }
   ],
   "source": [
    "pd.DataFrame({'probability': unigram.mdl})"
   ]
  },
  {
   "cell_type": "markdown",
   "id": "13b9faa7",
   "metadata": {},
   "source": [
    "The sample will make more sense than the previous one."
   ]
  },
  {
   "cell_type": "code",
   "execution_count": 12,
   "id": "ca57d7f2",
   "metadata": {},
   "outputs": [
    {
     "data": {
      "text/plain": [
       "'What meet which his helpless least something thought . \\x80 away perhaps \\x80 you bank what keeping . yet him and , accounted us attainable this happy . an \\x9c imagination to a the \\x80 time to news was been . on to get and or \\x9d ? conscious man you , ; rest responses is him \\x80 if fading , and your ; under on grand , recognized serve matter said which much his feared not arm the chair it the - , \\x9d \\x99 doubtful the this at \\x99 take which for very mean way you so any'"
      ]
     },
     "execution_count": 12,
     "metadata": {},
     "output_type": "execute_result"
    }
   ],
   "source": [
    "unigram.sample(100)"
   ]
  },
  {
   "cell_type": "markdown",
   "id": "a64e1f47",
   "metadata": {},
   "source": [
    "Finally using the NGram to create Bigram and Trigram, which uses conditional probability to choose the succeeding token(s) based off of the preceding token(s)."
   ]
  },
  {
   "cell_type": "code",
   "execution_count": 13,
   "id": "990cba88",
   "metadata": {},
   "outputs": [],
   "source": [
    "bigram = NGramLM(3, tokens)"
   ]
  },
  {
   "cell_type": "code",
   "execution_count": 14,
   "id": "f186b7a3",
   "metadata": {},
   "outputs": [
    {
     "data": {
      "text/html": [
       "<div>\n",
       "<style scoped>\n",
       "    .dataframe tbody tr th:only-of-type {\n",
       "        vertical-align: middle;\n",
       "    }\n",
       "\n",
       "    .dataframe tbody tr th {\n",
       "        vertical-align: top;\n",
       "    }\n",
       "\n",
       "    .dataframe thead th {\n",
       "        text-align: right;\n",
       "    }\n",
       "</style>\n",
       "<table border=\"1\" class=\"dataframe\">\n",
       "  <thead>\n",
       "    <tr style=\"text-align: right;\">\n",
       "      <th></th>\n",
       "      <th>ngram</th>\n",
       "      <th>n1gram</th>\n",
       "      <th>prob</th>\n",
       "    </tr>\n",
       "  </thead>\n",
       "  <tbody>\n",
       "    <tr>\n",
       "      <th>0</th>\n",
       "      <td>(\u0002, Produced, by)</td>\n",
       "      <td>(\u0002, Produced)</td>\n",
       "      <td>1.000000</td>\n",
       "    </tr>\n",
       "    <tr>\n",
       "      <th>1</th>\n",
       "      <td>(Produced, by, Chuck)</td>\n",
       "      <td>(Produced, by)</td>\n",
       "      <td>1.000000</td>\n",
       "    </tr>\n",
       "    <tr>\n",
       "      <th>2</th>\n",
       "      <td>(by, Chuck, Greif)</td>\n",
       "      <td>(by, Chuck)</td>\n",
       "      <td>1.000000</td>\n",
       "    </tr>\n",
       "    <tr>\n",
       "      <th>3</th>\n",
       "      <td>(Chuck, Greif, and)</td>\n",
       "      <td>(Chuck, Greif)</td>\n",
       "      <td>1.000000</td>\n",
       "    </tr>\n",
       "    <tr>\n",
       "      <th>4</th>\n",
       "      <td>(Greif, and, the)</td>\n",
       "      <td>(Greif, and)</td>\n",
       "      <td>1.000000</td>\n",
       "    </tr>\n",
       "    <tr>\n",
       "      <th>...</th>\n",
       "      <td>...</td>\n",
       "      <td>...</td>\n",
       "      <td>...</td>\n",
       "    </tr>\n",
       "    <tr>\n",
       "      <th>167480</th>\n",
       "      <td>(,, by, Mrs)</td>\n",
       "      <td>(,, by)</td>\n",
       "      <td>0.018519</td>\n",
       "    </tr>\n",
       "    <tr>\n",
       "      <th>167481</th>\n",
       "      <td>(by, Mrs, .)</td>\n",
       "      <td>(by, Mrs)</td>\n",
       "      <td>1.000000</td>\n",
       "    </tr>\n",
       "    <tr>\n",
       "      <th>167482</th>\n",
       "      <td>(Mrs, ., Margaret)</td>\n",
       "      <td>(Mrs, .)</td>\n",
       "      <td>0.010989</td>\n",
       "    </tr>\n",
       "    <tr>\n",
       "      <th>167483</th>\n",
       "      <td>(., Margaret, Oliphant)</td>\n",
       "      <td>(., Margaret)</td>\n",
       "      <td>1.000000</td>\n",
       "    </tr>\n",
       "    <tr>\n",
       "      <th>167484</th>\n",
       "      <td>(Margaret, Oliphant, \u0003)</td>\n",
       "      <td>(Margaret, Oliphant)</td>\n",
       "      <td>1.000000</td>\n",
       "    </tr>\n",
       "  </tbody>\n",
       "</table>\n",
       "<p>167485 rows × 3 columns</p>\n",
       "</div>"
      ],
      "text/plain": [
       "                          ngram                n1gram      prob\n",
       "0             (\u0002, Produced, by)         (\u0002, Produced)  1.000000\n",
       "1         (Produced, by, Chuck)        (Produced, by)  1.000000\n",
       "2            (by, Chuck, Greif)           (by, Chuck)  1.000000\n",
       "3           (Chuck, Greif, and)        (Chuck, Greif)  1.000000\n",
       "4             (Greif, and, the)          (Greif, and)  1.000000\n",
       "...                         ...                   ...       ...\n",
       "167480             (,, by, Mrs)               (,, by)  0.018519\n",
       "167481             (by, Mrs, .)             (by, Mrs)  1.000000\n",
       "167482       (Mrs, ., Margaret)              (Mrs, .)  0.010989\n",
       "167483  (., Margaret, Oliphant)         (., Margaret)  1.000000\n",
       "167484  (Margaret, Oliphant, \u0003)  (Margaret, Oliphant)  1.000000\n",
       "\n",
       "[167485 rows x 3 columns]"
      ]
     },
     "execution_count": 14,
     "metadata": {},
     "output_type": "execute_result"
    }
   ],
   "source": [
    "bigram.mdl"
   ]
  },
  {
   "cell_type": "code",
   "execution_count": 15,
   "id": "eb7920f0",
   "metadata": {},
   "outputs": [
    {
     "data": {
      "text/plain": [
       "'\\x02 MRS . OLIPHANT . = \\x03 \\x02 Upon which , to say , you can call on me again , since you say , for goodness sake , but by this time had almost been capable of introducing their sombre shadows into the drawing - room , where there was a very different circumstances , â \\x80 \\x99 s mother understood what he meant to be competed for immediately after Christmas , â \\x80 \\x9c one might choose to be talked about , as most people . He knew that Colin regarded this scene , the more closely connected \\x03'"
      ]
     },
     "execution_count": 15,
     "metadata": {},
     "output_type": "execute_result"
    }
   ],
   "source": [
    "bigram.sample(100)"
   ]
  },
  {
   "cell_type": "markdown",
   "id": "8a1ef66b",
   "metadata": {},
   "source": [
    "Now with a Trigram!"
   ]
  },
  {
   "cell_type": "code",
   "execution_count": 16,
   "id": "9df30acb",
   "metadata": {},
   "outputs": [],
   "source": [
    "trigram = NGramLM(3, tokens)"
   ]
  },
  {
   "cell_type": "code",
   "execution_count": 17,
   "id": "dd722013",
   "metadata": {},
   "outputs": [
    {
     "data": {
      "text/html": [
       "<div>\n",
       "<style scoped>\n",
       "    .dataframe tbody tr th:only-of-type {\n",
       "        vertical-align: middle;\n",
       "    }\n",
       "\n",
       "    .dataframe tbody tr th {\n",
       "        vertical-align: top;\n",
       "    }\n",
       "\n",
       "    .dataframe thead th {\n",
       "        text-align: right;\n",
       "    }\n",
       "</style>\n",
       "<table border=\"1\" class=\"dataframe\">\n",
       "  <thead>\n",
       "    <tr style=\"text-align: right;\">\n",
       "      <th></th>\n",
       "      <th>ngram</th>\n",
       "      <th>n1gram</th>\n",
       "      <th>prob</th>\n",
       "    </tr>\n",
       "  </thead>\n",
       "  <tbody>\n",
       "    <tr>\n",
       "      <th>0</th>\n",
       "      <td>(\u0002, Produced, by)</td>\n",
       "      <td>(\u0002, Produced)</td>\n",
       "      <td>1.000000</td>\n",
       "    </tr>\n",
       "    <tr>\n",
       "      <th>1</th>\n",
       "      <td>(Produced, by, Chuck)</td>\n",
       "      <td>(Produced, by)</td>\n",
       "      <td>1.000000</td>\n",
       "    </tr>\n",
       "    <tr>\n",
       "      <th>2</th>\n",
       "      <td>(by, Chuck, Greif)</td>\n",
       "      <td>(by, Chuck)</td>\n",
       "      <td>1.000000</td>\n",
       "    </tr>\n",
       "    <tr>\n",
       "      <th>3</th>\n",
       "      <td>(Chuck, Greif, and)</td>\n",
       "      <td>(Chuck, Greif)</td>\n",
       "      <td>1.000000</td>\n",
       "    </tr>\n",
       "    <tr>\n",
       "      <th>4</th>\n",
       "      <td>(Greif, and, the)</td>\n",
       "      <td>(Greif, and)</td>\n",
       "      <td>1.000000</td>\n",
       "    </tr>\n",
       "    <tr>\n",
       "      <th>...</th>\n",
       "      <td>...</td>\n",
       "      <td>...</td>\n",
       "      <td>...</td>\n",
       "    </tr>\n",
       "    <tr>\n",
       "      <th>167480</th>\n",
       "      <td>(,, by, Mrs)</td>\n",
       "      <td>(,, by)</td>\n",
       "      <td>0.018519</td>\n",
       "    </tr>\n",
       "    <tr>\n",
       "      <th>167481</th>\n",
       "      <td>(by, Mrs, .)</td>\n",
       "      <td>(by, Mrs)</td>\n",
       "      <td>1.000000</td>\n",
       "    </tr>\n",
       "    <tr>\n",
       "      <th>167482</th>\n",
       "      <td>(Mrs, ., Margaret)</td>\n",
       "      <td>(Mrs, .)</td>\n",
       "      <td>0.010989</td>\n",
       "    </tr>\n",
       "    <tr>\n",
       "      <th>167483</th>\n",
       "      <td>(., Margaret, Oliphant)</td>\n",
       "      <td>(., Margaret)</td>\n",
       "      <td>1.000000</td>\n",
       "    </tr>\n",
       "    <tr>\n",
       "      <th>167484</th>\n",
       "      <td>(Margaret, Oliphant, \u0003)</td>\n",
       "      <td>(Margaret, Oliphant)</td>\n",
       "      <td>1.000000</td>\n",
       "    </tr>\n",
       "  </tbody>\n",
       "</table>\n",
       "<p>167485 rows × 3 columns</p>\n",
       "</div>"
      ],
      "text/plain": [
       "                          ngram                n1gram      prob\n",
       "0             (\u0002, Produced, by)         (\u0002, Produced)  1.000000\n",
       "1         (Produced, by, Chuck)        (Produced, by)  1.000000\n",
       "2            (by, Chuck, Greif)           (by, Chuck)  1.000000\n",
       "3           (Chuck, Greif, and)        (Chuck, Greif)  1.000000\n",
       "4             (Greif, and, the)          (Greif, and)  1.000000\n",
       "...                         ...                   ...       ...\n",
       "167480             (,, by, Mrs)               (,, by)  0.018519\n",
       "167481             (by, Mrs, .)             (by, Mrs)  1.000000\n",
       "167482       (Mrs, ., Margaret)              (Mrs, .)  0.010989\n",
       "167483  (., Margaret, Oliphant)         (., Margaret)  1.000000\n",
       "167484  (Margaret, Oliphant, \u0003)  (Margaret, Oliphant)  1.000000\n",
       "\n",
       "[167485 rows x 3 columns]"
      ]
     },
     "execution_count": 17,
     "metadata": {},
     "output_type": "execute_result"
    }
   ],
   "source": [
    "trigram.mdl"
   ]
  },
  {
   "cell_type": "code",
   "execution_count": 18,
   "id": "e50130d7",
   "metadata": {},
   "outputs": [
    {
     "data": {
      "text/plain": [
       "'\\x02 Lauderdale , â \\x80 \\x9c and the thanksgivings . I hope you â \\x80 \\x9d said the curate stopped speaking . He talks of going to Eetaly , and took out the big cradle with a skeleton in it , â \\x80 \\x99 to speak of private devotions , â \\x80 \\x9c I â \\x80 \\x99 s laugh sounded like mockery , holding it on the dear heart of Rome , where so many changes , and which even Colin , telling her her voice . \\x03 \\x02 â \\x80 \\x99 s ear like the sweetest little woman of \\x03'"
      ]
     },
     "execution_count": 18,
     "metadata": {},
     "output_type": "execute_result"
    }
   ],
   "source": [
    "trigram.sample(100)"
   ]
  },
  {
   "cell_type": "code",
   "execution_count": 19,
   "id": "7c81eb61",
   "metadata": {},
   "outputs": [],
   "source": [
    "fivegram = NGramLM(5, tokens)"
   ]
  },
  {
   "cell_type": "code",
   "execution_count": 20,
   "id": "dcce80d8",
   "metadata": {},
   "outputs": [
    {
     "data": {
      "text/html": [
       "<div>\n",
       "<style scoped>\n",
       "    .dataframe tbody tr th:only-of-type {\n",
       "        vertical-align: middle;\n",
       "    }\n",
       "\n",
       "    .dataframe tbody tr th {\n",
       "        vertical-align: top;\n",
       "    }\n",
       "\n",
       "    .dataframe thead th {\n",
       "        text-align: right;\n",
       "    }\n",
       "</style>\n",
       "<table border=\"1\" class=\"dataframe\">\n",
       "  <thead>\n",
       "    <tr style=\"text-align: right;\">\n",
       "      <th></th>\n",
       "      <th>ngram</th>\n",
       "      <th>n1gram</th>\n",
       "      <th>prob</th>\n",
       "    </tr>\n",
       "  </thead>\n",
       "  <tbody>\n",
       "    <tr>\n",
       "      <th>0</th>\n",
       "      <td>(\u0002, Produced, by, Chuck, Greif)</td>\n",
       "      <td>(\u0002, Produced, by, Chuck)</td>\n",
       "      <td>1.0</td>\n",
       "    </tr>\n",
       "    <tr>\n",
       "      <th>1</th>\n",
       "      <td>(Produced, by, Chuck, Greif, and)</td>\n",
       "      <td>(Produced, by, Chuck, Greif)</td>\n",
       "      <td>1.0</td>\n",
       "    </tr>\n",
       "    <tr>\n",
       "      <th>2</th>\n",
       "      <td>(by, Chuck, Greif, and, the)</td>\n",
       "      <td>(by, Chuck, Greif, and)</td>\n",
       "      <td>1.0</td>\n",
       "    </tr>\n",
       "    <tr>\n",
       "      <th>3</th>\n",
       "      <td>(Chuck, Greif, and, the, Online)</td>\n",
       "      <td>(Chuck, Greif, and, the)</td>\n",
       "      <td>1.0</td>\n",
       "    </tr>\n",
       "    <tr>\n",
       "      <th>4</th>\n",
       "      <td>(Greif, and, the, Online, Distributed)</td>\n",
       "      <td>(Greif, and, the, Online)</td>\n",
       "      <td>1.0</td>\n",
       "    </tr>\n",
       "    <tr>\n",
       "      <th>...</th>\n",
       "      <td>...</td>\n",
       "      <td>...</td>\n",
       "      <td>...</td>\n",
       "    </tr>\n",
       "    <tr>\n",
       "      <th>230458</th>\n",
       "      <td>(the, Soil, ,, by, Mrs)</td>\n",
       "      <td>(the, Soil, ,, by)</td>\n",
       "      <td>1.0</td>\n",
       "    </tr>\n",
       "    <tr>\n",
       "      <th>230459</th>\n",
       "      <td>(Soil, ,, by, Mrs, .)</td>\n",
       "      <td>(Soil, ,, by, Mrs)</td>\n",
       "      <td>1.0</td>\n",
       "    </tr>\n",
       "    <tr>\n",
       "      <th>230460</th>\n",
       "      <td>(,, by, Mrs, ., Margaret)</td>\n",
       "      <td>(,, by, Mrs, .)</td>\n",
       "      <td>1.0</td>\n",
       "    </tr>\n",
       "    <tr>\n",
       "      <th>230461</th>\n",
       "      <td>(by, Mrs, ., Margaret, Oliphant)</td>\n",
       "      <td>(by, Mrs, ., Margaret)</td>\n",
       "      <td>1.0</td>\n",
       "    </tr>\n",
       "    <tr>\n",
       "      <th>230462</th>\n",
       "      <td>(Mrs, ., Margaret, Oliphant, \u0003)</td>\n",
       "      <td>(Mrs, ., Margaret, Oliphant)</td>\n",
       "      <td>1.0</td>\n",
       "    </tr>\n",
       "  </tbody>\n",
       "</table>\n",
       "<p>230463 rows × 3 columns</p>\n",
       "</div>"
      ],
      "text/plain": [
       "                                         ngram                        n1gram  \\\n",
       "0              (\u0002, Produced, by, Chuck, Greif)      (\u0002, Produced, by, Chuck)   \n",
       "1            (Produced, by, Chuck, Greif, and)  (Produced, by, Chuck, Greif)   \n",
       "2                 (by, Chuck, Greif, and, the)       (by, Chuck, Greif, and)   \n",
       "3             (Chuck, Greif, and, the, Online)      (Chuck, Greif, and, the)   \n",
       "4       (Greif, and, the, Online, Distributed)     (Greif, and, the, Online)   \n",
       "...                                        ...                           ...   \n",
       "230458                 (the, Soil, ,, by, Mrs)            (the, Soil, ,, by)   \n",
       "230459                   (Soil, ,, by, Mrs, .)            (Soil, ,, by, Mrs)   \n",
       "230460               (,, by, Mrs, ., Margaret)               (,, by, Mrs, .)   \n",
       "230461        (by, Mrs, ., Margaret, Oliphant)        (by, Mrs, ., Margaret)   \n",
       "230462         (Mrs, ., Margaret, Oliphant, \u0003)  (Mrs, ., Margaret, Oliphant)   \n",
       "\n",
       "        prob  \n",
       "0        1.0  \n",
       "1        1.0  \n",
       "2        1.0  \n",
       "3        1.0  \n",
       "4        1.0  \n",
       "...      ...  \n",
       "230458   1.0  \n",
       "230459   1.0  \n",
       "230460   1.0  \n",
       "230461   1.0  \n",
       "230462   1.0  \n",
       "\n",
       "[230463 rows x 3 columns]"
      ]
     },
     "execution_count": 20,
     "metadata": {},
     "output_type": "execute_result"
    }
   ],
   "source": [
    "fivegram.mdl"
   ]
  },
  {
   "cell_type": "code",
   "execution_count": 21,
   "id": "f6588207",
   "metadata": {},
   "outputs": [
    {
     "data": {
      "text/plain": [
       "'\\x02 â \\x80 \\x9c Oh , an honourable occupation , â \\x80 \\x9d continued big Colin , looking admiringly at the comely mother of his boys . â \\x80 \\x9c Ay , â \\x80 \\x9d he repeated , holding out his hand another time . â \\x80 \\x9c Eh , Colin , laddie , if that was possible . When I hear the poor people here singing their vespers - - - - â \\x80 \\x9d \\x03 \\x02 â \\x80 \\x9c I don â \\x80 \\x99 t stand there in the fog like a ghost ; if you have anything \\x03'"
      ]
     },
     "execution_count": 21,
     "metadata": {},
     "output_type": "execute_result"
    }
   ],
   "source": [
    "fivegram.sample(100)"
   ]
  },
  {
   "cell_type": "code",
   "execution_count": null,
   "id": "9e5a5f0c",
   "metadata": {},
   "outputs": [],
   "source": []
  }
 ],
 "metadata": {
  "kernelspec": {
   "display_name": "Python 3 (ipykernel)",
   "language": "python",
   "name": "python3"
  },
  "language_info": {
   "codemirror_mode": {
    "name": "ipython",
    "version": 3
   },
   "file_extension": ".py",
   "mimetype": "text/x-python",
   "name": "python",
   "nbconvert_exporter": "python",
   "pygments_lexer": "ipython3",
   "version": "3.8.13"
  }
 },
 "nbformat": 4,
 "nbformat_minor": 5
}
